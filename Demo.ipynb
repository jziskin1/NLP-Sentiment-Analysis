{
 "cells": [
  {
   "cell_type": "markdown",
   "metadata": {},
   "source": [
    "# Yelp Review Sentiment Analysis Demo"
   ]
  },
  {
   "cell_type": "code",
   "execution_count": 1,
   "metadata": {},
   "outputs": [
    {
     "name": "stderr",
     "output_type": "stream",
     "text": [
      "Using TensorFlow backend.\n"
     ]
    }
   ],
   "source": [
    "import os\n",
    "import re\n",
    "import json\n",
    "import numpy as np\n",
    "from num2words import num2words\n",
    "import matplotlib.pyplot as plt\n",
    "\n",
    "from keras.preprocessing.text import Tokenizer\n",
    "from keras.preprocessing.sequence import pad_sequences\n",
    "from keras.models import Sequential\n",
    "from keras.layers import Embedding, LSTM, Dense, Dropout, Conv1D, MaxPooling1D\n",
    "from keras.callbacks import ModelCheckpoint\n",
    "\n",
    "from sklearn.model_selection import train_test_split"
   ]
  },
  {
   "cell_type": "code",
   "execution_count": 2,
   "metadata": {},
   "outputs": [],
   "source": [
    "def load_data(filepath, max_samples=None):\n",
    "    \"\"\"\n",
    "    Takes a .json filepath with yelp reviews and appends the sentiment\n",
    "    (1 meaning positive for 4-5 star ratings and 0 meaning negative for 1-3 star ratings)\n",
    "    to the sentiment list and the text to the text list.\n",
    "\n",
    "    Function will load same number of positive and negative reviews\n",
    "\n",
    "    Return the text list and sentiments numpy array as a tuple\n",
    "    \"\"\"\n",
    "    stars_to_sentiment = {1: 0, 2: 0, 3: 0, 4: 1, 5: 1}\n",
    "    sentiments = []\n",
    "    text = []\n",
    "\n",
    "    # Open file and read lines\n",
    "    with open(filepath) as f:\n",
    "        lines = f.readlines()\n",
    "\n",
    "        # If given max_samples, set a limit for each review type and count to make sure they're equal\n",
    "        if max_samples is not None:\n",
    "            limit = max_samples//2\n",
    "            counts = {0: 0, 1: 0}\n",
    "\n",
    "        # Loop through every sample\n",
    "        for line in lines:\n",
    "            data = json.loads(line)\n",
    "            sentiment = stars_to_sentiment[data[\"stars\"]]\n",
    "\n",
    "            # Add sentiments and text\n",
    "            if counts[sentiment] < limit:\n",
    "                text.append(data['text'])\n",
    "                sentiments.append(sentiment)\n",
    "                counts[sentiment] += 1\n",
    "\n",
    "            # Break out of loop if positive and negative reviews hit limit\n",
    "            if counts[0] == limit and counts[1] == limit:\n",
    "                break\n",
    "\n",
    "        return text, sentiments"
   ]
  },
  {
   "cell_type": "code",
   "execution_count": 3,
   "metadata": {},
   "outputs": [],
   "source": [
    "def clean_text(text, stop_list=[]):\n",
    "    \"\"\"\n",
    "    Takes a list of strings and \"cleans\" the text.\n",
    "\n",
    "    We define cleaning as...\n",
    "\n",
    "    replacing any dashes with spaces (ie: \"long-term\" -> \"long term\")\n",
    "    removing punctuation/special characters (ie: \"great!\" -> \"great\",   \"wish,\" -> \"wish\")\n",
    "    changing all words to lowercase (ie: \"Great\" -> \"great\",   \"FANTASTIC,\" -> \"fantastic\")\n",
    "    removing words that appear on stop list if one is provided\n",
    "    turn reviews into lists of words\n",
    "\n",
    "    Returns a list of strings containing the words used in each review.\n",
    "    \"\"\"\n",
    "    clean = []\n",
    "\n",
    "\n",
    "    # Loop through every review\n",
    "    for review in text:\n",
    "        cleaned_review = \"\"\n",
    "\n",
    "        # Loop through every word in the review splitting along spaces, dashes, or periods\n",
    "        for word in re.split(r'[.\\s-]+', review):\n",
    "            # If word is number, change to word\n",
    "            if word.isdecimal():\n",
    "                word = num2words(word)\n",
    "\n",
    "            # Remove special characters from word and make lowercase\n",
    "            word = re.sub('[^A-Za-z0-9]+', '', word).lower()\n",
    "\n",
    "            # Add any words to cleaned_review\n",
    "            if word != \"\" and word not in stop_list:\n",
    "                cleaned_review = cleaned_review + word + \" \"\n",
    "\n",
    "        # Add cleaned review to clean\n",
    "        clean.append(cleaned_review[:-1])\n",
    "\n",
    "    return clean"
   ]
  },
  {
   "cell_type": "code",
   "execution_count": 4,
   "metadata": {},
   "outputs": [],
   "source": [
    "def preprocess(datapath, max_samples, stoplist=[]):\n",
    "    \"\"\"\n",
    "    Do all the preprocessing and returns text vectors (either embedded or not) and sentiments as a tuple.\n",
    "    Also returns tokenizer for predicting later.\n",
    "\n",
    "    datapath is the path the the yelp reviews dataset\n",
    "    max_samples are the number of samples we'll take from the dataset of over 8 million reviews\n",
    "    stoplist is a list of words to remove from the data\n",
    "    \"\"\"\n",
    "    # Load data\n",
    "    text, sentiments = load_data(filepath=datapath, max_samples=max_samples)\n",
    "    print(\"Data loaded.\")\n",
    "\n",
    "    # Clean text\n",
    "    text = clean_text(text, stoplist)\n",
    "    print(\"Text Cleaned.\")\n",
    "\n",
    "    # Tokenize text for keras embedding\n",
    "    tokenizer = Tokenizer(num_words=25000)\n",
    "    tokenizer.fit_on_texts(text)\n",
    "    sequences = tokenizer.texts_to_sequences(text)\n",
    "    vectors = pad_sequences(sequences, maxlen=350)\n",
    "    print(\"Text Tokenized.\")\n",
    "\n",
    "\n",
    "    print(\"Preprocessing Complete.\")\n",
    "    return vectors, sentiments, tokenizer"
   ]
  },
  {
   "cell_type": "code",
   "execution_count": 5,
   "metadata": {},
   "outputs": [],
   "source": [
    "def train_model(vectors, sentiments, epochs, conv=False):\n",
    "    \"\"\"\n",
    "    Trains model given transformed yelp review vectors and sentiments list\n",
    "\n",
    "    If conv flag is set to True, model will add a 1D convolutional layer to embedding\n",
    "\n",
    "    Returns model and history\n",
    "    \"\"\"\n",
    "    # Split into training and test sets\n",
    "    print(\"Spliting Data.\")\n",
    "    X_train, X_test, y_train, y_test = train_test_split(vectors, sentiments, test_size=0.2)\n",
    "\n",
    "    # Initiate model\n",
    "    print(\"Building Model.\")\n",
    "    model = Sequential()\n",
    "\n",
    "    # Add embedding layer\n",
    "    model.add(Embedding(25000, 150, input_length=350))\n",
    "\n",
    "    # Use 1D convolutional layer if specified\n",
    "    if conv:\n",
    "        model.add(Dropout(0.2))\n",
    "        model.add(Conv1D(75, 5, activation='relu'))\n",
    "        model.add(MaxPooling1D(pool_size=4))\n",
    "\n",
    "    # Use LSTM with 150 units, dropout and recurrent dropout of 0.2\n",
    "    model.add(LSTM(150, dropout=0.2, recurrent_dropout=0.2))\n",
    "    model.add(Dense(1, activation='sigmoid'))\n",
    "\n",
    "    # Compile model\n",
    "    model.compile(optimizer='adam', loss='binary_crossentropy', metrics=['accuracy'])\n",
    "\n",
    "    # Fit model\n",
    "    history = model.fit(X_train, np.array(y_train), validation_data=(X_test, np.array(y_test)), epochs=epochs)\n",
    "\n",
    "    return model, history"
   ]
  },
  {
   "cell_type": "code",
   "execution_count": 6,
   "metadata": {},
   "outputs": [],
   "source": [
    "def create_accuracy_plot(history):\n",
    "    \"\"\"\n",
    "    Takes model history and plots training and validation accuracy.\n",
    "    \"\"\"\n",
    "    plt.figure(figsize=(10, 6))\n",
    "    plt.plot(history.history['accuracy'], '-o', label=\"Training Accuracy\")\n",
    "    plt.plot(history.history['val_accuracy'], '-o', label=\"Validation Accuracy\")\n",
    "    plt.title(\"Accuracy of Yelp Review Sentiment using LSTM\")\n",
    "    plt.ylabel('Accuracy')\n",
    "    plt.xlabel('Epoch')\n",
    "    plt.legend(loc='lower right')\n",
    "    plt.show()"
   ]
  },
  {
   "cell_type": "code",
   "execution_count": 7,
   "metadata": {},
   "outputs": [],
   "source": [
    "def predict_sentiment(model, new_review_text, tokenizer):\n",
    "    \"\"\"\n",
    "    Interactive predictive function that takes a model and predicts sentiment of user's review\n",
    "    new_review_text is a list of strings or a string\n",
    "    \"\"\"\n",
    "    if isinstance(new_review_text, str):\n",
    "        new_review_text = list(new_review_text)\n",
    "    \n",
    "    sequences = tokenizer.texts_to_sequences(new_review_text)\n",
    "    vectors = pad_sequences(sequences, maxlen=350)\n",
    "\n",
    "    for i in range(len(new_review_text)):\n",
    "        prediction = float(model.predict(vectors)[i][0])\n",
    "        print(f\"Review: {new_review_text[i]}\")\n",
    "\n",
    "        if prediction > 0.5:\n",
    "            print(f\"There is a {round(prediction*100, 4)}% this review is positive.\\n\")\n",
    "        else:\n",
    "            print(f\"There is a {round((1-prediction)*100, 4)}% this review is negative.\\n\")\n"
   ]
  },
  {
   "cell_type": "code",
   "execution_count": 8,
   "metadata": {},
   "outputs": [],
   "source": [
    "# Path to yelp review\n",
    "path = \"./YelpReviews/data/yelp_academic_dataset_review.json\"\n",
    "\n",
    "# Adjust the parameters below as you like\n",
    "\n",
    "# Number of samples to select\n",
    "max_samples = 10000\n",
    "\n",
    "# Words on the stoplist will be removed from training data reviews\n",
    "stoplist = ['the', 'and', 'a', 'i', 'to', 'of', 'was', 'it', 'is', \n",
    "            'for', 'in', 'my', 'that', 'with', 'they', 'on', 'we', \n",
    "            'this', 'you', 'not', 'have', 'had', 'so', 'are', 'at', \n",
    "            'be', 'were', 'there', 'as', 'me', 'its', 'if', 'their', \n",
    "            'here', 'just', 'one', 'time', 'when', 'get', 'or', 'our', \n",
    "            'about', 'will', 'also', 'an', 'would', 'what', 'which', \n",
    "            'them', 'can', 'been', 'your', 'she', 'he', 'by', 'got', \n",
    "            'dont', 'ive', 'too', 'im', 'do', 'because', 'us', 'has', \n",
    "            'made', 'come', 'did', 'went', 'who', 'make', 'way', 'came', \n",
    "            'going', 'then', 'her', 'how', 'being', 'while', 'youre', 'am']\n",
    "\n",
    "# Conv flag to determine if model uses 1D convolutional and max pooling layer\n",
    "conv = False\n",
    "\n",
    "# Reviews for the model to predict\n",
    "new_reviews = [\"I liked the food. It was delicious.\", \"I hate this place. The food was awful.\"]\n",
    "\n",
    "# Number of epochs\n",
    "epochs = 3"
   ]
  },
  {
   "cell_type": "code",
   "execution_count": 9,
   "metadata": {},
   "outputs": [
    {
     "name": "stdout",
     "output_type": "stream",
     "text": [
      "Data loaded.\n",
      "Text Cleaned.\n",
      "Text Tokenized.\n",
      "Preprocessing Complete.\n"
     ]
    }
   ],
   "source": [
    "# Preprocess data\n",
    "X, y, tokenizer = preprocess(path, max_samples=max_samples, stoplist=stoplist)"
   ]
  },
  {
   "cell_type": "code",
   "execution_count": 10,
   "metadata": {},
   "outputs": [
    {
     "name": "stdout",
     "output_type": "stream",
     "text": [
      "Spliting Data.\n",
      "Building Model.\n",
      "Epoch 1/3\n",
      "228/228 [==============================] - 109s 476ms/step - loss: 0.4824 - accuracy: 0.7778 - val_loss: 0.3854 - val_accuracy: 0.8336\n",
      "Epoch 2/3\n",
      "228/228 [==============================] - 114s 502ms/step - loss: 0.2386 - accuracy: 0.9099 - val_loss: 0.3913 - val_accuracy: 0.8364\n",
      "Epoch 3/3\n",
      "228/228 [==============================] - 109s 477ms/step - loss: 0.1217 - accuracy: 0.9587 - val_loss: 0.4979 - val_accuracy: 0.8331\n"
     ]
    }
   ],
   "source": [
    "# Train model\n",
    "model, history = train_model(X, y, epochs, conv=conv)"
   ]
  },
  {
   "cell_type": "code",
   "execution_count": 11,
   "metadata": {},
   "outputs": [
    {
     "name": "stdout",
     "output_type": "stream",
     "text": [
      "Model: \"sequential\"\n",
      "_________________________________________________________________\n",
      "Layer (type)                 Output Shape              Param #   \n",
      "=================================================================\n",
      "embedding (Embedding)        (None, 350, 150)          3750000   \n",
      "_________________________________________________________________\n",
      "lstm (LSTM)                  (None, 150)               180600    \n",
      "_________________________________________________________________\n",
      "dense (Dense)                (None, 1)                 151       \n",
      "=================================================================\n",
      "Total params: 3,930,751\n",
      "Trainable params: 3,930,751\n",
      "Non-trainable params: 0\n",
      "_________________________________________________________________\n"
     ]
    }
   ],
   "source": [
    "# View Model Summary\n",
    "model.summary()"
   ]
  },
  {
   "cell_type": "code",
   "execution_count": 12,
   "metadata": {},
   "outputs": [
    {
     "data": {
      "image/png": "[encoded data removed]",
      "text/plain": [
       "<Figure size 720x432 with 1 Axes>"
      ]
     },
     "metadata": {
      "needs_background": "light"
     },
     "output_type": "display_data"
    }
   ],
   "source": [
    "# Plot accuracy\n",
    "create_accuracy_plot(history)"
   ]
  },
  {
   "cell_type": "code",
   "execution_count": 13,
   "metadata": {},
   "outputs": [
    {
     "name": "stdout",
     "output_type": "stream",
     "text": [
      "Review: I liked the food. It was delicious.\n",
      "There is a 93.5176% this review is positive.\n",
      "\n",
      "Review: I hate this place. The food was awful.\n",
      "There is a 93.6097% this review is negative.\n",
      "\n"
     ]
    }
   ],
   "source": [
    "# Predict sentiment of user generated review\n",
    "predict_sentiment(model, new_reviews, tokenizer)"
   ]
  }
 ],
 "metadata": {
  "kernelspec": {
   "display_name": "Python 3",
   "language": "python",
   "name": "python3"
  },
  "language_info": {
   "codemirror_mode": {
    "name": "ipython",
    "version": 3
   },
   "file_extension": ".py",
   "mimetype": "text/x-python",
   "name": "python",
   "nbconvert_exporter": "python",
   "pygments_lexer": "ipython3",
   "version": "3.8.3"
  }
 },
 "nbformat": 4,
 "nbformat_minor": 4
}
